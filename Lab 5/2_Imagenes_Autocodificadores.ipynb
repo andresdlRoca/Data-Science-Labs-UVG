{
 "cells": [
  {
   "cell_type": "markdown",
   "metadata": {},
   "source": [
    "# Uso de AutoCodificadores imagenes - reducción de dimensiones"
   ]
  },
  {
   "cell_type": "markdown",
   "metadata": {},
   "source": [
    "## Los Datos"
   ]
  },
  {
   "cell_type": "code",
   "execution_count": 1,
   "metadata": {},
   "outputs": [],
   "source": [
    "import pandas as pd\n",
    "import numpy as np\n",
    "import matplotlib.pyplot as plt"
   ]
  },
  {
   "cell_type": "code",
   "execution_count": 2,
   "metadata": {},
   "outputs": [],
   "source": [
    "from tensorflow.keras.datasets import mnist"
   ]
  },
  {
   "cell_type": "code",
   "execution_count": 3,
   "metadata": {},
   "outputs": [],
   "source": [
    "(X_entreno, y_entreno), (X_prueba, y_prueba) = mnist.load_data()"
   ]
  },
  {
   "cell_type": "code",
   "execution_count": 4,
   "metadata": {},
   "outputs": [
    {
     "data": {
      "text/plain": [
       "<matplotlib.image.AxesImage at 0x17ad004ef80>"
      ]
     },
     "execution_count": 4,
     "metadata": {},
     "output_type": "execute_result"
    },
    {
     "data": {
      "image/png": "[encoded data removed]",
      "text/plain": [
       "<Figure size 640x480 with 1 Axes>"
      ]
     },
     "metadata": {},
     "output_type": "display_data"
    }
   ],
   "source": [
    "plt.imshow(X_entreno[0])"
   ]
  },
  {
   "cell_type": "markdown",
   "metadata": {},
   "source": [
    "### Se normalizan los datos (escala original 0 - 255)"
   ]
  },
  {
   "cell_type": "code",
   "execution_count": 5,
   "metadata": {},
   "outputs": [],
   "source": [
    "X_entreno = X_entreno/255\n",
    "X_prueba = X_prueba/255"
   ]
  },
  {
   "cell_type": "markdown",
   "metadata": {},
   "source": [
    "## AutoCodificador Básico"
   ]
  },
  {
   "cell_type": "code",
   "execution_count": 6,
   "metadata": {},
   "outputs": [],
   "source": [
    "from tensorflow.keras.models import Sequential\n",
    "from tensorflow.keras.layers import Dense,Flatten,Reshape\n",
    "# from tensorflow.keras.optimizers import SGD\n",
    "from tensorflow.keras.optimizers.legacy import SGD #para uso con procesadores M! y M2"
   ]
  },
  {
   "cell_type": "markdown",
   "metadata": {
    "tags": []
   },
   "source": [
    "Es buena idea armar lo que se llama un \"AutoCodificador Apilado\" en el cual cada capa va rebajando el número de neuronas hasta el número que desee. \n",
    "\n",
    "Esto es principalmente para que el aprendizaje pueda ser más escalonado y no intentar que sea de un solo golpe.\n",
    "\n",
    "Para este ejercicio se irá bajando aproximadamente de mitad en mitad, hasta llegar a una capa de tan solo 25 neuronas.\n",
    "\n",
    "Esto es totalmente arbitrario y pueden escogerse otros esquémas"
   ]
  },
  {
   "cell_type": "code",
   "execution_count": 7,
   "metadata": {},
   "outputs": [
    {
     "data": {
      "text/plain": [
       "392.0"
      ]
     },
     "execution_count": 7,
     "metadata": {},
     "output_type": "execute_result"
    }
   ],
   "source": [
    "784/2"
   ]
  },
  {
   "cell_type": "code",
   "execution_count": 8,
   "metadata": {},
   "outputs": [],
   "source": [
    "codificador = Sequential()\n",
    "codificador.add(Flatten(input_shape = [28, 28]))\n",
    "codificador.add(Dense(400, activation = \"relu\"))\n",
    "codificador.add(Dense(200, activation = \"relu\"))\n",
    "codificador.add(Dense(100, activation = \"relu\"))\n",
    "codificador.add(Dense(50, activation = \"relu\"))\n",
    "codificador.add(Dense(25, activation = \"relu\"))"
   ]
  },
  {
   "cell_type": "markdown",
   "metadata": {},
   "source": [
    "La capa final de codificador es de 25 unidades,  El decodificador toma esa como entrada y va aumentando hasta llegar a la dimensión correcta.\n",
    "\n",
    "Como se desea comparar con la imagen original, es necesario regresar al formato original de 28 X 28"
   ]
  },
  {
   "cell_type": "code",
   "execution_count": 9,
   "metadata": {
    "tags": []
   },
   "outputs": [],
   "source": [
    "decodificador = Sequential()\n",
    "decodificador.add(Dense(50, input_shape = [25],\n",
    "                        activation = 'relu'))\n",
    "decodificador.add(Dense(100, activation = 'relu'))\n",
    "decodificador.add(Dense(200, activation = 'relu'))\n",
    "decodificador.add(Dense(400, activation = 'relu'))\n",
    "decodificador.add(Dense(784, activation = \"sigmoid\"))\n",
    "decodificador.add(Reshape([28, 28]))"
   ]
  },
  {
   "cell_type": "markdown",
   "metadata": {},
   "source": [
    "### Conformar el autocodificador completo.\n",
    "\n",
    "Se utiliza la función de activación *sigmoid* porque usaremos la función de pérdida *binary_crossenthropy*\n",
    "\n",
    "Se utilza la función de pérdida *binary_crossenthropy* porque no interesa obtener clases sino conocer si la imagen resultante es similar a la original."
   ]
  },
  {
   "cell_type": "code",
   "execution_count": 10,
   "metadata": {},
   "outputs": [],
   "source": [
    "autocodificador = Sequential([codificador, \n",
    "                              decodificador])\n",
    "autocodificador.compile(loss = \"binary_crossentropy\", optimizer = SGD(learning_rate = 1.5), metrics = ['accuracy'])"
   ]
  },
  {
   "cell_type": "code",
   "execution_count": 11,
   "metadata": {},
   "outputs": [
    {
     "name": "stdout",
     "output_type": "stream",
     "text": [
      "Epoch 1/5\n",
      "1875/1875 [==============================] - 14s 7ms/step - loss: 0.2491 - accuracy: 0.0879 - val_loss: 0.2132 - val_accuracy: 0.1146\n",
      "Epoch 2/5\n",
      "1875/1875 [==============================] - 11s 6ms/step - loss: 0.1919 - accuracy: 0.1482 - val_loss: 0.1704 - val_accuracy: 0.1781\n",
      "Epoch 3/5\n",
      "1875/1875 [==============================] - 10s 6ms/step - loss: 0.1653 - accuracy: 0.1887 - val_loss: 0.1561 - val_accuracy: 0.1995\n",
      "Epoch 4/5\n",
      "1875/1875 [==============================] - 10s 6ms/step - loss: 0.1529 - accuracy: 0.2065 - val_loss: 0.1449 - val_accuracy: 0.2150\n",
      "Epoch 5/5\n",
      "1875/1875 [==============================] - 11s 6ms/step - loss: 0.1446 - accuracy: 0.2173 - val_loss: 0.1423 - val_accuracy: 0.2158\n"
     ]
    },
    {
     "data": {
      "text/plain": [
       "<keras.src.callbacks.History at 0x17ad0240850>"
      ]
     },
     "execution_count": 11,
     "metadata": {},
     "output_type": "execute_result"
    }
   ],
   "source": [
    "autocodificador.fit(X_entreno, X_entreno, \n",
    "                    epochs = 5,\n",
    "                    validation_data = [X_prueba, \n",
    "                                       X_prueba])"
   ]
  },
  {
   "cell_type": "markdown",
   "metadata": {},
   "source": [
    "Ver si el autocodificador puede predecir (en este caso, reconstruir) las imágenes que recibe"
   ]
  },
  {
   "cell_type": "code",
   "execution_count": 12,
   "metadata": {},
   "outputs": [
    {
     "name": "stdout",
     "output_type": "stream",
     "text": [
      "1/1 [==============================] - 0s 91ms/step\n"
     ]
    }
   ],
   "source": [
    "imagenes_generadas = autocodificador.predict(X_prueba[:10])"
   ]
  },
  {
   "cell_type": "code",
   "execution_count": 13,
   "metadata": {},
   "outputs": [
    {
     "name": "stdout",
     "output_type": "stream",
     "text": [
      "Imagen original\n"
     ]
    },
    {
     "data": {
      "image/png": "[encoded data removed]",
      "text/plain": [
       "<Figure size 640x480 with 1 Axes>"
      ]
     },
     "metadata": {},
     "output_type": "display_data"
    },
    {
     "name": "stdout",
     "output_type": "stream",
     "text": [
      "Imagen reconstruida con el autocodificador\n"
     ]
    },
    {
     "data": {
      "image/png": "[encoded data removed]",
      "text/plain": [
       "<Figure size 640x480 with 1 Axes>"
      ]
     },
     "metadata": {},
     "output_type": "display_data"
    }
   ],
   "source": [
    "n = 4   # Seleccionar la imagen que se desea comparar\n",
    "\n",
    "print(\"Imagen original\")\n",
    "plt.imshow(X_prueba[n]);\n",
    "plt.show()\n",
    "print(\"Imagen reconstruida con el autocodificador\")\n",
    "plt.imshow(imagenes_generadas[n]);"
   ]
  },
  {
   "cell_type": "markdown",
   "metadata": {},
   "source": [
    "Para probar con otra imagen...ejecutar celda anterior con otro valor de n.\n",
    "\n",
    "Bastante impresionante...se redujeron las dimensiones de 28 X 28 = 784 a tan solo 25, o sea solo el 3% de las dimensiones originales, y se lograron imágenes bastante parecidas!"
   ]
  },
  {
   "cell_type": "markdown",
   "metadata": {},
   "source": [
    "# AutoCodificadores para reducir el ruido en imágenes"
   ]
  },
  {
   "cell_type": "code",
   "execution_count": 14,
   "metadata": {},
   "outputs": [],
   "source": [
    "from tensorflow.keras.layers import GaussianNoise"
   ]
  },
  {
   "cell_type": "markdown",
   "metadata": {},
   "source": [
    "### Ver cómo funciona el generador de ruido"
   ]
  },
  {
   "cell_type": "code",
   "execution_count": 15,
   "metadata": {},
   "outputs": [],
   "source": [
    "muestra = GaussianNoise(0.2)   # Desviación estándard, si se quiere más ruido, incrementar"
   ]
  },
  {
   "cell_type": "code",
   "execution_count": 16,
   "metadata": {},
   "outputs": [],
   "source": [
    "ruidosas = muestra(X_prueba[:10], training = True)"
   ]
  },
  {
   "cell_type": "code",
   "execution_count": 17,
   "metadata": {},
   "outputs": [
    {
     "name": "stdout",
     "output_type": "stream",
     "text": [
      "Imagen original\n"
     ]
    },
    {
     "data": {
      "image/png": "[encoded data removed]",
      "text/plain": [
       "<Figure size 640x480 with 1 Axes>"
      ]
     },
     "metadata": {},
     "output_type": "display_data"
    },
    {
     "name": "stdout",
     "output_type": "stream",
     "text": [
      "Imagen ruidosa\n"
     ]
    },
    {
     "data": {
      "image/png": "[encoded data removed]",
      "text/plain": [
       "<Figure size 640x480 with 1 Axes>"
      ]
     },
     "metadata": {},
     "output_type": "display_data"
    }
   ],
   "source": [
    "n = 0   # Seleccionar la imagen que se desea comparar\n",
    "\n",
    "print(\"Imagen original\")\n",
    "plt.imshow(X_prueba[n]);\n",
    "plt.show()\n",
    "print(\"Imagen ruidosa\")\n",
    "plt.imshow(ruidosas[n]);"
   ]
  },
  {
   "cell_type": "markdown",
   "metadata": {},
   "source": [
    "Ver otra...otro valor de n"
   ]
  },
  {
   "cell_type": "markdown",
   "metadata": {},
   "source": [
    "### Crear autocodificador para eliminación de ruido y entrenarlo."
   ]
  },
  {
   "cell_type": "code",
   "execution_count": 18,
   "metadata": {
    "tags": []
   },
   "outputs": [],
   "source": [
    "import tensorflow as tf\n",
    "import numpy as np"
   ]
  },
  {
   "cell_type": "markdown",
   "metadata": {},
   "source": [
    "La siguiente celda es opcional, se usa para tener reproducibilidad"
   ]
  },
  {
   "cell_type": "code",
   "execution_count": 19,
   "metadata": {
    "tags": []
   },
   "outputs": [],
   "source": [
    "tf.random.set_seed(101)\n",
    "np.random.seed(101)"
   ]
  },
  {
   "cell_type": "markdown",
   "metadata": {},
   "source": [
    "Se usará el mismo autocodificador, solo que con una capa más para introducir el ruido a las imágenes,  en el codificador"
   ]
  },
  {
   "cell_type": "code",
   "execution_count": 20,
   "metadata": {},
   "outputs": [],
   "source": [
    "codificador = Sequential()\n",
    "codificador.add(Flatten(input_shape = [28, 28]))\n",
    "\n",
    "# Agregar ruido a las imágenes\n",
    "codificador.add(GaussianNoise(0.2))\n",
    "\n",
    "codificador.add(Dense(400, activation = \"relu\"))\n",
    "codificador.add(Dense(200, activation = \"relu\"))\n",
    "codificador.add(Dense(100, activation = \"relu\"))\n",
    "codificador.add(Dense(50, activation = \"relu\"))\n",
    "codificador.add(Dense(25, activation = \"relu\"))"
   ]
  },
  {
   "cell_type": "code",
   "execution_count": 21,
   "metadata": {},
   "outputs": [],
   "source": [
    "decodificador = Sequential()\n",
    "decodificador.add(Dense(50, input_shape = [25],\n",
    "                        activation = 'relu'))\n",
    "decodificador.add(Dense(100, activation = 'relu'))\n",
    "decodificador.add(Dense(200, activation = 'relu'))\n",
    "decodificador.add(Dense(400, activation = 'relu'))\n",
    "decodificador.add(Dense(784, activation = \"sigmoid\"))\n",
    "decodificador.add(Reshape([28, 28]))"
   ]
  },
  {
   "cell_type": "markdown",
   "metadata": {},
   "source": [
    "### Conformar el Autocodificador"
   ]
  },
  {
   "cell_type": "code",
   "execution_count": 22,
   "metadata": {},
   "outputs": [],
   "source": [
    "eliminador_ruido = Sequential([codificador, \n",
    "                               decodificador])"
   ]
  },
  {
   "cell_type": "code",
   "execution_count": 23,
   "metadata": {},
   "outputs": [],
   "source": [
    "eliminador_ruido.compile(loss = \"binary_crossentropy\", \n",
    "                         optimizer = 'adam', \n",
    "                         metrics = ['accuracy'])"
   ]
  },
  {
   "cell_type": "code",
   "execution_count": 24,
   "metadata": {},
   "outputs": [
    {
     "name": "stdout",
     "output_type": "stream",
     "text": [
      "Epoch 1/8\n",
      "1875/1875 [==============================] - 20s 10ms/step - loss: 0.1795 - accuracy: 0.1736 - val_loss: 0.1454 - val_accuracy: 0.2167\n",
      "Epoch 2/8\n",
      "1875/1875 [==============================] - 17s 9ms/step - loss: 0.1387 - accuracy: 0.2231 - val_loss: 0.1276 - val_accuracy: 0.2352\n",
      "Epoch 3/8\n",
      "1875/1875 [==============================] - 15s 8ms/step - loss: 0.1267 - accuracy: 0.2382 - val_loss: 0.1200 - val_accuracy: 0.2490\n",
      "Epoch 4/8\n",
      "1875/1875 [==============================] - 17s 9ms/step - loss: 0.1213 - accuracy: 0.2464 - val_loss: 0.1158 - val_accuracy: 0.2534\n",
      "Epoch 5/8\n",
      "1875/1875 [==============================] - 16s 8ms/step - loss: 0.1174 - accuracy: 0.2525 - val_loss: 0.1129 - val_accuracy: 0.2524\n",
      "Epoch 6/8\n",
      "1875/1875 [==============================] - 16s 9ms/step - loss: 0.1143 - accuracy: 0.2569 - val_loss: 0.1098 - val_accuracy: 0.2609\n",
      "Epoch 7/8\n",
      "1875/1875 [==============================] - 16s 8ms/step - loss: 0.1120 - accuracy: 0.2612 - val_loss: 0.1088 - val_accuracy: 0.2638\n",
      "Epoch 8/8\n",
      "1875/1875 [==============================] - 16s 9ms/step - loss: 0.1102 - accuracy: 0.2649 - val_loss: 0.1068 - val_accuracy: 0.2692\n"
     ]
    },
    {
     "data": {
      "text/plain": [
       "<keras.src.callbacks.History at 0x17ad2c1bee0>"
      ]
     },
     "execution_count": 24,
     "metadata": {},
     "output_type": "execute_result"
    }
   ],
   "source": [
    "eliminador_ruido.fit(X_entreno, X_entreno, \n",
    "                     epochs = 8,\n",
    "                     validation_data = [X_prueba, X_prueba])"
   ]
  },
  {
   "cell_type": "markdown",
   "metadata": {},
   "source": [
    "### Ver resultados con una muestra de las imágenes"
   ]
  },
  {
   "cell_type": "code",
   "execution_count": 25,
   "metadata": {},
   "outputs": [],
   "source": [
    "diez_imags_con_ruido = muestra(X_prueba[: 10], \n",
    "                                 training = True)\n",
    "limpias = eliminador_ruido(diez_imags_con_ruido[: 10])"
   ]
  },
  {
   "cell_type": "markdown",
   "metadata": {},
   "source": [
    "**OJO!!!**  Nótese que en la celda anterior, realmente se ha \"duplicado\" la cantidad de ruido:  una vez por generar imágenes con ruido (primera instrucción), y una segunda vez por pasarlo por el codificador! "
   ]
  },
  {
   "cell_type": "code",
   "execution_count": 26,
   "metadata": {},
   "outputs": [
    {
     "name": "stdout",
     "output_type": "stream",
     "text": [
      "La Original\n"
     ]
    },
    {
     "data": {
      "image/png": "[encoded data removed]",
      "text/plain": [
       "<Figure size 640x480 with 1 Axes>"
      ]
     },
     "metadata": {},
     "output_type": "display_data"
    },
    {
     "name": "stdout",
     "output_type": "stream",
     "text": [
      "La version con ruido\n"
     ]
    },
    {
     "data": {
      "image/png": "[encoded data removed]",
      "text/plain": [
       "<Figure size 640x480 with 1 Axes>"
      ]
     },
     "metadata": {},
     "output_type": "display_data"
    },
    {
     "name": "stdout",
     "output_type": "stream",
     "text": [
      "Luego de pasar por el eliminidador de ruido\n"
     ]
    },
    {
     "data": {
      "image/png": "[encoded data removed]",
      "text/plain": [
       "<Figure size 640x480 with 1 Axes>"
      ]
     },
     "metadata": {},
     "output_type": "display_data"
    }
   ],
   "source": [
    "n = 0\n",
    "print(\"La Original\")\n",
    "plt.imshow(X_prueba[n])\n",
    "plt.show()\n",
    "print(\"La version con ruido\")\n",
    "plt.imshow(diez_imags_con_ruido[n])\n",
    "plt.show()\n",
    "print(\"Luego de pasar por el eliminidador de ruido\")\n",
    "plt.imshow(limpias[n])\n",
    "plt.show()"
   ]
  },
  {
   "cell_type": "code",
   "execution_count": null,
   "metadata": {},
   "outputs": [],
   "source": []
  }
 ],
 "metadata": {
  "kernelspec": {
   "display_name": "Python 3 (ipykernel)",
   "language": "python",
   "name": "python3"
  },
  "language_info": {
   "codemirror_mode": {
    "name": "ipython",
    "version": 3
   },
   "file_extension": ".py",
   "mimetype": "text/x-python",
   "name": "python",
   "nbconvert_exporter": "python",
   "pygments_lexer": "ipython3",
   "version": "3.10.5"
  }
 },
 "nbformat": 4,
 "nbformat_minor": 4
}
