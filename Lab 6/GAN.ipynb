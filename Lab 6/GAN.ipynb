{
 "cells": [
  {
   "cell_type": "markdown",
   "metadata": {
    "tags": []
   },
   "source": [
    "# Redes Generativas Adversariales (GANs - Generative Adversarial Networks)"
   ]
  },
  {
   "cell_type": "code",
   "execution_count": null,
   "metadata": {},
   "outputs": [],
   "source": [
    "import pandas as pd\n",
    "import numpy as np\n",
    "import matplotlib.pyplot as plt"
   ]
  },
  {
   "cell_type": "code",
   "execution_count": null,
   "metadata": {},
   "outputs": [],
   "source": [
    "from tensorflow.keras.datasets import mnist"
   ]
  },
  {
   "cell_type": "code",
   "execution_count": null,
   "metadata": {},
   "outputs": [],
   "source": [
    "(X_entreno, y_entreno), (X_prueba, y_prueba) = mnist.load_data()"
   ]
  },
  {
   "cell_type": "code",
   "execution_count": null,
   "metadata": {},
   "outputs": [],
   "source": [
    "plt.imshow(X_entreno[0])"
   ]
  },
  {
   "cell_type": "code",
   "execution_count": null,
   "metadata": {},
   "outputs": [],
   "source": [
    "y_entreno"
   ]
  },
  {
   "cell_type": "markdown",
   "metadata": {},
   "source": [
    "## Para que el tiempo de entrenamiento sea menor, vamos a filtrar los datos para solo tener de un mismo dígito...se puede escoger cualquiera de los diez dígitos"
   ]
  },
  {
   "cell_type": "code",
   "execution_count": null,
   "metadata": {},
   "outputs": [],
   "source": [
    "n = 0\n",
    "X_filtrado = X_entreno[y_entreno == n]"
   ]
  },
  {
   "cell_type": "code",
   "execution_count": null,
   "metadata": {
    "tags": []
   },
   "outputs": [],
   "source": [
    "X_entreno.shape"
   ]
  },
  {
   "cell_type": "code",
   "execution_count": null,
   "metadata": {
    "tags": []
   },
   "outputs": [],
   "source": [
    "X_filtrado.shape"
   ]
  },
  {
   "cell_type": "markdown",
   "metadata": {},
   "source": [
    "Ahora, a visualizar cualquiera de las imágenes filtradas"
   ]
  },
  {
   "cell_type": "code",
   "execution_count": null,
   "metadata": {},
   "outputs": [],
   "source": [
    "n = 1000\n",
    "plt.imshow(X_filtrado[n])"
   ]
  },
  {
   "cell_type": "code",
   "execution_count": null,
   "metadata": {},
   "outputs": [],
   "source": [
    "import tensorflow as tf\n",
    "from tensorflow.keras.layers import Dense,Reshape,Flatten\n",
    "from tensorflow.keras.models import Sequential"
   ]
  },
  {
   "cell_type": "markdown",
   "metadata": {},
   "source": [
    "## Creación del GAN\n",
    "\n",
    "### Empezar con el generador\n",
    "\n",
    "El generador es una especie de \"decodificador\", haciendo referencia al AutoCodificador que ya vimos.  Lo primero que hay que hacer es determinar un tamaño de codificación, o dimensión, que recibirá y que luego ampliará al tamaño de las imágenes en cuestión.  Este número lo seleccionamos nosotros.  Debe ser sustancialmente menor a las imágenes, pero no tan pequeño que se pueda perder alguna información importante."
   ]
  },
  {
   "cell_type": "code",
   "execution_count": null,
   "metadata": {},
   "outputs": [],
   "source": [
    "np.random.seed(42)\n",
    "tf.random.set_seed(42)\n",
    "\n",
    "# Tamaño de la capa que va hacia el \n",
    "#    Generador\n",
    "tamanio_codificacion = 100"
   ]
  },
  {
   "cell_type": "markdown",
   "metadata": {},
   "source": [
    "NOTA:\n",
    "La primera capa se define de 100 neuronas.  Esto no quiere decir que deba ser igual al *tamanio_codificacion* definido arriba.  El número de neuronas lo definimos nosotros y bien podría ser 125, o 150"
   ]
  },
  {
   "cell_type": "code",
   "execution_count": null,
   "metadata": {},
   "outputs": [],
   "source": [
    "generador = Sequential()\n",
    "generador.add(Dense(100, activation = \"relu\", \n",
    "                    input_shape = [tamanio_codificacion]))\n",
    "generador.add(Dense(150, activation = 'relu'))\n",
    "generador.add(Dense(784, activation = \"sigmoid\")) # 28*28 = 784\n",
    "generador.add(Reshape([28, 28]))  # Esto es lo que espera el discriminador"
   ]
  },
  {
   "cell_type": "markdown",
   "metadata": {},
   "source": [
    "### Ahora a definir el discriminador"
   ]
  },
  {
   "cell_type": "markdown",
   "metadata": {},
   "source": [
    "El numero de capas depende nosotros.  Entre más capas se usen, será más difícil confundir al discriminador.  Claro está, que entre más capas mayor capacidad computacional se requiere."
   ]
  },
  {
   "cell_type": "code",
   "execution_count": null,
   "metadata": {},
   "outputs": [],
   "source": [
    "discriminador = Sequential()\n",
    "discriminador.add(Flatten(input_shape = [28, 28]))\n",
    "discriminador.add(Dense(150, activation = 'relu'))\n",
    "discriminador.add(Dense(100, activation = 'relu'))\n",
    "discriminador.add(Dense(1, activation = \"sigmoid\"))\n",
    "\n",
    "discriminador.compile(loss = \"binary_crossentropy\", \n",
    "                      optimizer = \"adam\")"
   ]
  },
  {
   "cell_type": "markdown",
   "metadata": {},
   "source": [
    "Nótese que el discriminador se compila, pero el generador no.  En vez, se crea el GAN y se compila la red completa para que el generador se entrene únicamente a través del GAN completo.\n",
    "\n",
    "También, como se mencionó en la intuición, el discriminador no será entrenado durante la segunda fase\n",
    "\n",
    "Finalmente, la red GAN también tiene solo como salida un resultado binario\n",
    "\n",
    "Las siguientes líneas obedecen a estas observaciones"
   ]
  },
  {
   "cell_type": "code",
   "execution_count": null,
   "metadata": {},
   "outputs": [],
   "source": [
    "GAN = Sequential([generador, discriminador])"
   ]
  },
  {
   "cell_type": "code",
   "execution_count": null,
   "metadata": {},
   "outputs": [],
   "source": [
    "discriminador.trainable = False"
   ]
  },
  {
   "cell_type": "code",
   "execution_count": null,
   "metadata": {},
   "outputs": [],
   "source": [
    "GAN.compile(loss = \"binary_crossentropy\", \n",
    "            optimizer = \"adam\")"
   ]
  },
  {
   "cell_type": "markdown",
   "metadata": {},
   "source": [
    "Ver un resumen de lo hecho"
   ]
  },
  {
   "cell_type": "code",
   "execution_count": null,
   "metadata": {},
   "outputs": [],
   "source": [
    "GAN.layers"
   ]
  },
  {
   "cell_type": "code",
   "execution_count": null,
   "metadata": {},
   "outputs": [],
   "source": [
    "GAN.summary()"
   ]
  },
  {
   "cell_type": "code",
   "execution_count": null,
   "metadata": {},
   "outputs": [],
   "source": [
    "GAN.layers[0].summary()"
   ]
  },
  {
   "cell_type": "code",
   "execution_count": null,
   "metadata": {},
   "outputs": [],
   "source": [
    "GAN.layers[1].summary()"
   ]
  },
  {
   "cell_type": "markdown",
   "metadata": {},
   "source": [
    "### Configurar las tandas para entrenamiento"
   ]
  },
  {
   "cell_type": "code",
   "execution_count": null,
   "metadata": {},
   "outputs": [],
   "source": [
    "import tensorflow as tf"
   ]
  },
  {
   "cell_type": "code",
   "execution_count": null,
   "metadata": {},
   "outputs": [],
   "source": [
    "# Si se desea que el entrenamiento sea más\n",
    "#   rápido, se puede tomar un valor mayor\n",
    "tamanio_tanda = 32"
   ]
  },
  {
   "cell_type": "markdown",
   "metadata": {},
   "source": [
    "https://stackoverflow.com/questions/46444018/meaning-of-buffer-size-in-dataset-map-dataset-prefetch-and-dataset-shuffle\n",
    "\n",
    "El tamaño del \"buffer\" en el Conjunto_Datos.shuffle() puede afectar la aleatoridad de conjunto de datos, y por lo tanto el orden en los cuales aparecen los elementos. "
   ]
  },
  {
   "cell_type": "code",
   "execution_count": null,
   "metadata": {},
   "outputs": [],
   "source": [
    "# mis_datos = X_entreno\n",
    "mis_datos = X_filtrado"
   ]
  },
  {
   "cell_type": "code",
   "execution_count": null,
   "metadata": {},
   "outputs": [],
   "source": [
    "datos = tf.data.Dataset.from_tensor_slices(mis_datos).shuffle(buffer_size = 1000)"
   ]
  },
  {
   "cell_type": "code",
   "execution_count": null,
   "metadata": {},
   "outputs": [],
   "source": [
    "type(datos)"
   ]
  },
  {
   "cell_type": "code",
   "execution_count": null,
   "metadata": {},
   "outputs": [],
   "source": [
    "datos = datos.batch(tamanio_tanda, \n",
    "                    drop_remainder = True).prefetch(1)"
   ]
  },
  {
   "cell_type": "code",
   "execution_count": null,
   "metadata": {},
   "outputs": [],
   "source": [
    "epocas = 1   # Debiera ser suficiente para ver algo, pero se puede cambiar"
   ]
  },
  {
   "cell_type": "markdown",
   "metadata": {},
   "source": [
    "**NOTA: el generador nunca vé imágenes verdaderas.  Aprende viendo las gradientes que fluyen hacia atrás en el discriminador.  Entre mejor se va poniendo el discriminador a través del entrenamiento, más información está contenida en sus gradientes. Esto hace que el generador vaya progresando en su aprendizaje sobre cómo generar imágenes falsas.** \n",
    "\n",
    "\n",
    "## Iteración de Entrenamiento\n",
    "\n",
    "Normalmente se usa el .fit() para entrenar.  Sin embargo como acá se tienen dos redes en competencia (adversariales), se creará una iteración de entrenamiento"
   ]
  },
  {
   "cell_type": "code",
   "execution_count": null,
   "metadata": {},
   "outputs": [],
   "source": [
    "# Tomar los componentes por separado\n",
    "generador, discriminador = GAN.layers"
   ]
  },
  {
   "cell_type": "code",
   "execution_count": null,
   "metadata": {},
   "outputs": [],
   "source": [
    "for epoca in range(epocas):\n",
    "    print(f\"Voy por la época {epoca + 1}\")\n",
    "    i = 0\n",
    "    # Para cada tanda en el conjunto de datos\n",
    "    for X_tanda in datos:\n",
    "        i = i + 1\n",
    "        if i % 100 == 0:\n",
    "            print(f\"\\tVoy por la tanda número {i} de {len(mis_datos) // tamanio_tanda}\")\n",
    "            \n",
    "        ###############################################\n",
    "        ## Fase 1 -  Entrenamiento del DISCRIMINADOR ##\n",
    "        ###############################################\n",
    "        \n",
    "        # Crear Ruido\n",
    "        ruido = tf.random.normal(shape = [tamanio_tanda, \n",
    "                                          tamanio_codificacion])\n",
    "        \n",
    "        # Generar imágenes falsas (números) basadas sólo en una entrada de ruido\n",
    "        # Notar que el Generador nunca vé imágenes reales (solo ruido)\n",
    "        imagenes_gen = generador(ruido)\n",
    "        \n",
    "        # Concatenar las Imágenes Generadas con las Verdaderas\n",
    "        # Para poder utilizar tf.concat, los tipos de los datos deben\n",
    "        #    coincidir!\n",
    "        X_falso_vs_real = tf.concat([imagenes_gen, \n",
    "                                     tf.dtypes.cast(X_tanda,\n",
    "                                                    tf.float32)], \n",
    "                                     axis = 0)\n",
    "        \n",
    "        # Las metas se fijan en cero (0) para imágenes falsas \n",
    "        #     y uno (1) para imágenes reales\n",
    "        y1 = tf.constant([[0.]] * tamanio_tanda + [[1.]] * tamanio_tanda)\n",
    "        \n",
    "        # La siguiente instrucción obvia una advertencia de Keras\n",
    "        discriminador.trainable = True\n",
    "        \n",
    "        # Entrenar al discriminador con esta tanda\n",
    "        discriminador.train_on_batch(X_falso_vs_real, y1)\n",
    "        \n",
    "        \n",
    "        ##########################################\n",
    "        ## Fase 2 - Entrenamiento del GENERADOR ##\n",
    "        ##########################################\n",
    "        \n",
    "        # Crear algo de ruido\n",
    "        ruido = tf.random.normal(shape=[tamanio_tanda, \n",
    "                                        tamanio_codificacion])\n",
    "        \n",
    "        # En esta fase se quiere que el discriminador crea \n",
    "        #   que las imágenes falsas son reales\n",
    "        y2 = tf.constant([[1.]] * tamanio_tanda)\n",
    "        \n",
    "        # Evitar una advertencia\n",
    "        discriminador.trainable = False\n",
    "        \n",
    "        GAN.train_on_batch(ruido, y2)\n",
    "        \n",
    "print(\"Entrenamiento Completado\")            "
   ]
  },
  {
   "cell_type": "markdown",
   "metadata": {},
   "source": [
    "Lo más probable es que el generador solo aprenda a crear un tipo de imagen del número ruidoso.  Sin importar cuál es el ruido que se le pasa.\n",
    "\n",
    "https://www.quora.com/What-does-it-mean-if-all-produced-images-of-a-GAN-look-the-same"
   ]
  },
  {
   "cell_type": "markdown",
   "metadata": {},
   "source": [
    "**Ahora que está todo entrenado, se puede probar solo el generador para producir imágenes**"
   ]
  },
  {
   "cell_type": "code",
   "execution_count": null,
   "metadata": {
    "tags": []
   },
   "outputs": [],
   "source": [
    "ruido = tf.random.normal(shape = [10, tamanio_codificacion])"
   ]
  },
  {
   "cell_type": "code",
   "execution_count": null,
   "metadata": {},
   "outputs": [],
   "source": [
    "ruido.shape"
   ]
  },
  {
   "cell_type": "code",
   "execution_count": null,
   "metadata": {},
   "outputs": [],
   "source": [
    "plt.imshow(ruido)"
   ]
  },
  {
   "cell_type": "code",
   "execution_count": null,
   "metadata": {},
   "outputs": [],
   "source": [
    "imagenes = generador(ruido)"
   ]
  },
  {
   "cell_type": "code",
   "execution_count": null,
   "metadata": {},
   "outputs": [],
   "source": [
    "n = 5\n",
    "plt.imshow(imagenes[n])"
   ]
  },
  {
   "cell_type": "code",
   "execution_count": null,
   "metadata": {
    "tags": []
   },
   "outputs": [],
   "source": [
    "n = 9\n",
    "plt.imshow(imagenes[n])"
   ]
  },
  {
   "cell_type": "markdown",
   "metadata": {},
   "source": [
    "**Si se ven las 10 imágenes, todas parecen ser escencialmente lo mismo.  Hay algunas diferencias, algunos puntos cambian de intensidad pero básicamente es la misma imagen.**\n",
    "\n",
    "**El generador encontró una imagen que logra confundir al discriminador y ya no \"se preocupa\" por generar nuevas...el generador entró en *modo colapsado***\n",
    "\n",
    "\n",
    "**En este campo, este es el  estado-del-arte!  Para obtener resultados realistas, se requieren GPUs de mucha potencia!**"
   ]
  }
 ],
 "metadata": {
  "kernelspec": {
   "display_name": "Python 3 (ipykernel)",
   "language": "python",
   "name": "python3"
  },
  "language_info": {
   "codemirror_mode": {
    "name": "ipython",
    "version": 3
   },
   "file_extension": ".py",
   "mimetype": "text/x-python",
   "name": "python",
   "nbconvert_exporter": "python",
   "pygments_lexer": "ipython3",
   "version": "3.11.4"
  }
 },
 "nbformat": 4,
 "nbformat_minor": 4
}
