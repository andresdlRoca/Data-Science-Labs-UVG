{
 "cells": [
  {
   "cell_type": "markdown",
   "metadata": {},
   "source": [
    "# Lab 4"
   ]
  },
  {
   "cell_type": "code",
   "execution_count": 17,
   "metadata": {},
   "outputs": [],
   "source": [
    "import tensorflow as tf\n",
    "from keras.preprocessing import sequence\n",
    "from keras.models import Sequential\n",
    "from keras.layers import Dense, Embedding, LSTM, Input, Dropout, Activation, GRU, Flatten\n",
    "from keras.layers import Convolution1D, GlobalMaxPool1D, Bidirectional\n",
    "from keras.datasets import imdb"
   ]
  },
  {
   "cell_type": "code",
   "execution_count": 18,
   "metadata": {},
   "outputs": [],
   "source": [
    "(X_train, y_train), (X_test, y_test) = imdb.load_data(num_words=50000)\n"
   ]
  },
  {
   "cell_type": "code",
   "execution_count": 19,
   "metadata": {},
   "outputs": [],
   "source": [
    "X_train = sequence.pad_sequences(X_train, maxlen=200)\n",
    "X_test = sequence.pad_sequences(X_test, maxlen=200)"
   ]
  },
  {
   "cell_type": "code",
   "execution_count": 20,
   "metadata": {},
   "outputs": [],
   "source": [
    "modelo = Sequential()\n",
    "modelo.add(Embedding(50000, 128))\n",
    "modelo.add(Bidirectional(LSTM(32, return_sequences=True)))\n",
    "modelo.add(GlobalMaxPool1D())\n",
    "modelo.add(Dense(20, activation='relu'))\n",
    "modelo.add(Dropout(0.05))\n",
    "modelo.add(Dense(1, activation='sigmoid'))"
   ]
  },
  {
   "cell_type": "code",
   "execution_count": 21,
   "metadata": {},
   "outputs": [],
   "source": [
    "modelo.compile(loss='binary_crossentropy', optimizer='adam', metrics=['accuracy'])"
   ]
  },
  {
   "cell_type": "code",
   "execution_count": 22,
   "metadata": {},
   "outputs": [
    {
     "name": "stdout",
     "output_type": "stream",
     "text": [
      "Epoch 1/5\n"
     ]
    },
    {
     "name": "stdout",
     "output_type": "stream",
     "text": [
      "250/250 [==============================] - 112s 419ms/step - loss: 0.4131 - accuracy: 0.8047 - val_loss: 0.2964 - val_accuracy: 0.8758\n",
      "Epoch 2/5\n",
      "250/250 [==============================] - 105s 421ms/step - loss: 0.1640 - accuracy: 0.9404 - val_loss: 0.3236 - val_accuracy: 0.8696\n",
      "Epoch 3/5\n",
      "250/250 [==============================] - 101s 404ms/step - loss: 0.0745 - accuracy: 0.9762 - val_loss: 0.4202 - val_accuracy: 0.8580\n",
      "Epoch 4/5\n",
      "250/250 [==============================] - 102s 409ms/step - loss: 0.0378 - accuracy: 0.9887 - val_loss: 0.5398 - val_accuracy: 0.8507\n",
      "Epoch 5/5\n",
      "250/250 [==============================] - 107s 428ms/step - loss: 0.0167 - accuracy: 0.9953 - val_loss: 0.6141 - val_accuracy: 0.8482\n"
     ]
    },
    {
     "data": {
      "text/plain": [
       "<keras.src.callbacks.History at 0x17a7d0e9390>"
      ]
     },
     "execution_count": 22,
     "metadata": {},
     "output_type": "execute_result"
    }
   ],
   "source": [
    "modelo.fit(X_train, y_train, batch_size=100, epochs=10, validation_split=0.2, validation_data=(X_test, y_test))"
   ]
  },
  {
   "cell_type": "code",
   "execution_count": 23,
   "metadata": {},
   "outputs": [
    {
     "name": "stderr",
     "output_type": "stream",
     "text": [
      "c:\\Users\\Andrès DLR\\AppData\\Local\\Programs\\Python\\Python310\\lib\\site-packages\\keras\\src\\engine\\training.py:3000: UserWarning: You are saving your model as an HDF5 file via `model.save()`. This file format is considered legacy. We recommend using instead the native Keras format, e.g. `model.save('my_model.keras')`.\n",
      "  saving_api.save_model(\n"
     ]
    }
   ],
   "source": [
    "modelo.save('Lab4-modelo.h5')"
   ]
  },
  {
   "cell_type": "code",
   "execution_count": 24,
   "metadata": {},
   "outputs": [],
   "source": [
    "loss, acc = modelo.evaluate(X_test, y_test, verbose=0, batch_size=128)"
   ]
  },
  {
   "cell_type": "code",
   "execution_count": 25,
   "metadata": {},
   "outputs": [
    {
     "name": "stdout",
     "output_type": "stream",
     "text": [
      "Loss:  0.6141311526298523\n",
      "Accuracy:  0.8482400178909302\n"
     ]
    }
   ],
   "source": [
    "print('Loss: ', loss)\n",
    "print('Accuracy: ', acc)"
   ]
  }
 ],
 "metadata": {
  "language_info": {
   "name": "python"
  },
  "orig_nbformat": 4
 },
 "nbformat": 4,
 "nbformat_minor": 2
}
