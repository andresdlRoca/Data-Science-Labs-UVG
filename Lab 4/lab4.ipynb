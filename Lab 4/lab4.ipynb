{
 "cells": [
  {
   "cell_type": "markdown",
   "metadata": {},
   "source": [
    "# Lab 4"
   ]
  },
  {
   "cell_type": "code",
   "execution_count": 34,
   "metadata": {},
   "outputs": [],
   "source": [
    "import tensorflow as tf\n",
    "from keras.preprocessing import sequence\n",
    "from keras.models import Sequential\n",
    "from keras.layers import Dense, Embedding, LSTM, Input, Dropout, Activation, GRU, Flatten\n",
    "from keras.layers import Convolution1D, GlobalMaxPool1D, Bidirectional\n",
    "from keras.datasets import imdb"
   ]
  },
  {
   "cell_type": "code",
   "execution_count": 35,
   "metadata": {},
   "outputs": [],
   "source": [
    "(X_train, y_train), (X_test, y_test) = imdb.load_data(num_words=50000)\n"
   ]
  },
  {
   "cell_type": "code",
   "execution_count": 36,
   "metadata": {},
   "outputs": [],
   "source": [
    "X_train = sequence.pad_sequences(X_train, maxlen=200)\n",
    "X_test = sequence.pad_sequences(X_test, maxlen=200)"
   ]
  },
  {
   "cell_type": "code",
   "execution_count": 37,
   "metadata": {},
   "outputs": [],
   "source": [
    "modelo = Sequential()\n",
    "modelo.add(Embedding(50000, 128))\n",
    "modelo.add(Bidirectional(LSTM(32, return_sequences=True)))\n",
    "modelo.add(GlobalMaxPool1D())\n",
    "modelo.add(Dense(20, activation='relu'))\n",
    "modelo.add(Dropout(0.05))\n",
    "modelo.add(Dense(1, activation='sigmoid'))"
   ]
  },
  {
   "cell_type": "code",
   "execution_count": 38,
   "metadata": {},
   "outputs": [],
   "source": [
    "modelo.compile(loss='binary_crossentropy', optimizer='rmsprop', metrics=['accuracy'])"
   ]
  },
  {
   "cell_type": "code",
   "execution_count": 39,
   "metadata": {},
   "outputs": [
    {
     "name": "stdout",
     "output_type": "stream",
     "text": [
      "Epoch 1/10\n"
     ]
    },
    {
     "name": "stdout",
     "output_type": "stream",
     "text": [
      "250/250 [==============================] - 132s 507ms/step - loss: 0.6043 - accuracy: 0.6556 - val_loss: 0.3840 - val_accuracy: 0.8374\n",
      "Epoch 2/10\n",
      "250/250 [==============================] - 109s 436ms/step - loss: 0.3256 - accuracy: 0.8650 - val_loss: 0.3062 - val_accuracy: 0.8714\n",
      "Epoch 3/10\n",
      "250/250 [==============================] - 108s 433ms/step - loss: 0.2360 - accuracy: 0.9093 - val_loss: 0.3174 - val_accuracy: 0.8694\n",
      "Epoch 4/10\n",
      "250/250 [==============================] - 95s 379ms/step - loss: 0.1820 - accuracy: 0.9318 - val_loss: 0.3588 - val_accuracy: 0.8685\n",
      "Epoch 5/10\n",
      "250/250 [==============================] - 73s 294ms/step - loss: 0.1434 - accuracy: 0.9477 - val_loss: 0.3872 - val_accuracy: 0.8586\n",
      "Epoch 6/10\n",
      "250/250 [==============================] - 72s 287ms/step - loss: 0.1126 - accuracy: 0.9622 - val_loss: 0.3792 - val_accuracy: 0.8644\n",
      "Epoch 7/10\n",
      "250/250 [==============================] - 72s 287ms/step - loss: 0.0866 - accuracy: 0.9716 - val_loss: 0.4058 - val_accuracy: 0.8693\n",
      "Epoch 8/10\n",
      "250/250 [==============================] - 72s 289ms/step - loss: 0.0676 - accuracy: 0.9784 - val_loss: 0.4555 - val_accuracy: 0.8626\n",
      "Epoch 9/10\n",
      "250/250 [==============================] - 71s 284ms/step - loss: 0.0544 - accuracy: 0.9836 - val_loss: 0.4628 - val_accuracy: 0.8641\n",
      "Epoch 10/10\n",
      "250/250 [==============================] - 73s 292ms/step - loss: 0.0412 - accuracy: 0.9890 - val_loss: 0.5552 - val_accuracy: 0.8599\n"
     ]
    },
    {
     "data": {
      "text/plain": [
       "<keras.src.callbacks.History at 0x17a22fb4a00>"
      ]
     },
     "execution_count": 39,
     "metadata": {},
     "output_type": "execute_result"
    }
   ],
   "source": [
    "modelo.fit(X_train, y_train, batch_size=100, epochs=10, validation_split=0.2, validation_data=(X_test, y_test))"
   ]
  },
  {
   "cell_type": "code",
   "execution_count": 40,
   "metadata": {},
   "outputs": [
    {
     "name": "stderr",
     "output_type": "stream",
     "text": [
      "c:\\Users\\Andrès DLR\\AppData\\Local\\Programs\\Python\\Python310\\lib\\site-packages\\keras\\src\\engine\\training.py:3000: UserWarning: You are saving your model as an HDF5 file via `model.save()`. This file format is considered legacy. We recommend using instead the native Keras format, e.g. `model.save('my_model.keras')`.\n",
      "  saving_api.save_model(\n"
     ]
    }
   ],
   "source": [
    "modelo.save('Lab4-modelo.h5')"
   ]
  },
  {
   "cell_type": "code",
   "execution_count": 41,
   "metadata": {},
   "outputs": [],
   "source": [
    "loss, acc = modelo.evaluate(X_test, y_test, verbose=0, batch_size=128)"
   ]
  },
  {
   "cell_type": "code",
   "execution_count": 42,
   "metadata": {},
   "outputs": [
    {
     "name": "stdout",
     "output_type": "stream",
     "text": [
      "Loss:  0.5552350282669067\n",
      "Accuracy:  0.8598799705505371\n"
     ]
    }
   ],
   "source": [
    "print('Loss: ', loss)\n",
    "print('Accuracy: ', acc)"
   ]
  }
 ],
 "metadata": {
  "language_info": {
   "name": "python"
  },
  "orig_nbformat": 4
 },
 "nbformat": 4,
 "nbformat_minor": 2
}
