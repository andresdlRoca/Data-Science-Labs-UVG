{
 "cells": [
  {
   "cell_type": "markdown",
   "metadata": {},
   "source": [
    "# Lab 4"
   ]
  },
  {
   "cell_type": "code",
   "execution_count": 181,
   "metadata": {},
   "outputs": [],
   "source": [
    "import tensorflow as tf\n",
    "from keras.preprocessing import sequence\n",
    "from keras.models import Sequential\n",
    "from keras.layers import Dense, Embedding, LSTM, Input, Dropout, Activation, GRU, Flatten\n",
    "from keras.layers import Convolution1D, GlobalMaxPool1D, Bidirectional\n",
    "from keras.datasets import imdb\n",
    "from keras.callbacks import EarlyStopping, ModelCheckpoint\n",
    "from keras.models import load_model"
   ]
  },
  {
   "cell_type": "code",
   "execution_count": 182,
   "metadata": {},
   "outputs": [],
   "source": [
    "(X_train, y_train), (X_test, y_test) = imdb.load_data(num_words=50000)\n"
   ]
  },
  {
   "cell_type": "code",
   "execution_count": 183,
   "metadata": {},
   "outputs": [],
   "source": [
    "X_train = sequence.pad_sequences(X_train, maxlen=200)\n",
    "X_test = sequence.pad_sequences(X_test, maxlen=200)"
   ]
  },
  {
   "cell_type": "code",
   "execution_count": 184,
   "metadata": {},
   "outputs": [],
   "source": [
    "early_stop = EarlyStopping(monitor='val_loss', patience=3, verbose=1, restore_best_weights=True)\n",
    "checkpoint = ModelCheckpoint('best_model.h5', monitor='val_loss', verbose=1, save_best_only=True)\n",
    "callbacks = [early_stop, checkpoint]\n",
    "\n",
    "modelo = Sequential()\n",
    "modelo.add(Embedding(50000, 150))\n",
    "modelo.add(Bidirectional(LSTM(64, return_sequences=True)))\n",
    "modelo.add(GlobalMaxPool1D())\n",
    "modelo.add(Dense(30, activation='relu'))\n",
    "modelo.add(Dropout(0.2))\n",
    "modelo.add(Dense(1, activation='sigmoid'))\n",
    "\n",
    "modelo.compile(loss='binary_crossentropy', optimizer='adam', metrics=['accuracy'])"
   ]
  },
  {
   "cell_type": "code",
   "execution_count": 185,
   "metadata": {},
   "outputs": [
    {
     "name": "stdout",
     "output_type": "stream",
     "text": [
      "Epoch 1/5\n",
      "196/196 [==============================] - ETA: 0s - loss: 0.4590 - accuracy: 0.7759\n",
      "Epoch 1: val_loss improved from inf to 0.30404, saving model to best_model.h5\n",
      "196/196 [==============================] - 232s 1s/step - loss: 0.4590 - accuracy: 0.7759 - val_loss: 0.3040 - val_accuracy: 0.8712\n",
      "Epoch 2/5\n",
      "196/196 [==============================] - ETA: 0s - loss: 0.1906 - accuracy: 0.9314\n",
      "Epoch 2: val_loss did not improve from 0.30404\n",
      "196/196 [==============================] - 228s 1s/step - loss: 0.1906 - accuracy: 0.9314 - val_loss: 0.3111 - val_accuracy: 0.8724\n",
      "Epoch 3/5\n",
      "196/196 [==============================] - ETA: 0s - loss: 0.0891 - accuracy: 0.9726\n",
      "Epoch 3: val_loss did not improve from 0.30404\n",
      "196/196 [==============================] - 228s 1s/step - loss: 0.0891 - accuracy: 0.9726 - val_loss: 0.4029 - val_accuracy: 0.8578\n",
      "Epoch 4/5\n",
      "196/196 [==============================] - ETA: 0s - loss: 0.0453 - accuracy: 0.9869Restoring model weights from the end of the best epoch: 1.\n",
      "\n",
      "Epoch 4: val_loss did not improve from 0.30404\n",
      "196/196 [==============================] - 231s 1s/step - loss: 0.0453 - accuracy: 0.9869 - val_loss: 0.4999 - val_accuracy: 0.8514\n",
      "Epoch 4: early stopping\n"
     ]
    }
   ],
   "source": [
    "history = modelo.fit(X_train, y_train, batch_size=128, epochs=5, \n",
    "                     validation_split=0.2, validation_data=(X_test, y_test), \n",
    "                     callbacks=callbacks)"
   ]
  },
  {
   "cell_type": "code",
   "execution_count": 186,
   "metadata": {},
   "outputs": [],
   "source": [
    "modelo.save('Lab4-modelo.h5')"
   ]
  },
  {
   "cell_type": "code",
   "execution_count": 189,
   "metadata": {},
   "outputs": [
    {
     "name": "stdout",
     "output_type": "stream",
     "text": [
      "Loss:  0.30403923988342285\n",
      "Accuracy:  0.8712000250816345\n"
     ]
    }
   ],
   "source": [
    "loss, acc = modelo.evaluate(X_test, y_test, verbose=0, batch_size=128)\n",
    "print('Loss: ', loss)\n",
    "print('Accuracy: ', acc)"
   ]
  }
 ],
 "metadata": {
  "kernelspec": {
   "display_name": "Python 3",
   "language": "python",
   "name": "python3"
  },
  "language_info": {
   "codemirror_mode": {
    "name": "ipython",
    "version": 3
   },
   "file_extension": ".py",
   "mimetype": "text/x-python",
   "name": "python",
   "nbconvert_exporter": "python",
   "pygments_lexer": "ipython3",
   "version": "3.10.10"
  },
  "orig_nbformat": 4
 },
 "nbformat": 4,
 "nbformat_minor": 2
}
