{
 "cells": [
  {
   "cell_type": "markdown",
   "metadata": {},
   "source": [
    "# Laboratorio 2 - Clasificacion de rotulos de trafico utilizando CNN Le-Net\n",
    "Andrés de la Roca  \n",
    "Jun Woo Lee"
   ]
  },
  {
   "cell_type": "code",
   "execution_count": 2,
   "metadata": {},
   "outputs": [],
   "source": [
    "import os\n",
    "import pandas as pd\n",
    "import pickle\n",
    "import numpy as np\n",
    "import seaborn as sns\n",
    "import matplotlib.pyplot as plt\n",
    "from matplotlib.image import imread\n"
   ]
  },
  {
   "cell_type": "markdown",
   "metadata": {},
   "source": [
    "## Preparacion de datos"
   ]
  },
  {
   "cell_type": "code",
   "execution_count": 3,
   "metadata": {},
   "outputs": [],
   "source": [
    "dir_datos = './Datos_Rotulos_Trafico'"
   ]
  },
  {
   "cell_type": "code",
   "execution_count": 4,
   "metadata": {},
   "outputs": [
    {
     "ename": "FileNotFoundError",
     "evalue": "[WinError 3] The system cannot find the path specified: './Datos_Rotulos_Trafico'",
     "output_type": "error",
     "traceback": [
      "\u001b[1;31m---------------------------------------------------------------------------\u001b[0m",
      "\u001b[1;31mFileNotFoundError\u001b[0m                         Traceback (most recent call last)",
      "Cell \u001b[1;32mIn[4], line 1\u001b[0m\n\u001b[1;32m----> 1\u001b[0m os\u001b[39m.\u001b[39;49mlistdir(dir_datos)\n",
      "\u001b[1;31mFileNotFoundError\u001b[0m: [WinError 3] The system cannot find the path specified: './Datos_Rotulos_Trafico'"
     ]
    }
   ],
   "source": [
    "os.listdir(dir_datos)"
   ]
  },
  {
   "cell_type": "code",
   "execution_count": null,
   "metadata": {},
   "outputs": [],
   "source": [
    "train_route = dir_datos + '/entrenamiento.p'\n",
    "test_route = dir_datos + '/prueba.p'\n",
    "validation_route = dir_datos + '/validacion.p'"
   ]
  },
  {
   "cell_type": "code",
   "execution_count": null,
   "metadata": {},
   "outputs": [],
   "source": [
    "train_data = pd.read_pickle(train_route)\n",
    "test_data = pd.read_pickle(test_route)\n",
    "validation_data = pd.read_pickle(validation_route)"
   ]
  },
  {
   "cell_type": "code",
   "execution_count": null,
   "metadata": {},
   "outputs": [],
   "source": [
    "train_images = train_data['features']\n",
    "labels = train_data['labels']\n",
    "# test_features = test_data['features']\n",
    "# validation_features = validation_data['features']"
   ]
  },
  {
   "cell_type": "code",
   "execution_count": null,
   "metadata": {},
   "outputs": [
    {
     "name": "stdout",
     "output_type": "stream",
     "text": [
      "(34799, 32, 32, 3)\n",
      "(34799,)\n"
     ]
    }
   ],
   "source": [
    "print(train_images.shape)\n",
    "print(labels.shape)\n",
    "# print(test_features.shape)\n",
    "# print(validation_features.shape)"
   ]
  },
  {
   "cell_type": "code",
   "execution_count": null,
   "id": "5a2f2ed2",
   "metadata": {},
   "outputs": [],
   "source": [
    "\n",
    "import tensorflow as tf\n",
    "from tensorflow.keras.models import Sequential\n",
    "from tensorflow.keras.layers import Conv2D, MaxPooling2D, Flatten, Dense\n",
    "\n",
    "# Hiperparámetros\n",
    "learning_rate = 0.001\n",
    "epochs = 10\n",
    "batch_size = 64\n",
    "\n",
    "# Construcción del modelo LeNet\n",
    "model = Sequential()\n",
    "\n",
    "# Capa Convolutiva 1\n",
    "model.add(Conv2D(filters=6, kernel_size=(5,5), padding='valid', activation='relu', input_shape=(32,32,3)))\n",
    "# Capa de MaxPooling\n",
    "model.add(MaxPooling2D(pool_size=(2,2)))\n",
    "# Capa Convolutiva 2\n",
    "model.add(Conv2D(filters=16, kernel_size=(5,5), padding='valid', activation='relu'))\n",
    "# Capa de MaxPooling\n",
    "model.add(MaxPooling2D(pool_size=(2,2)))\n",
    "\n",
    "# Aplanar la salida\n",
    "model.add(Flatten())\n",
    "\n",
    "# Capas completamente conectadas\n",
    "model.add(Dense(120, activation='relu'))\n",
    "model.add(Dense(84, activation='relu'))\n",
    "model.add(Dense(43, activation='softmax'))  # 43 clases para los rótulos de tráfico\n",
    "\n",
    "# Compilar el modelo\n",
    "model.compile(optimizer=tf.keras.optimizers.Adam(learning_rate=learning_rate),\n",
    "              loss='sparse_categorical_crossentropy',\n",
    "              metrics=['accuracy'])\n",
    "\n",
    "# Resumen del modelo\n",
    "model.summary()\n"
   ]
  },
  {
   "cell_type": "code",
   "execution_count": null,
   "id": "748c20f8",
   "metadata": {},
   "outputs": [],
   "source": [
    "\n",
    "# Preparar los datos para el entrenamiento en lotes\n",
    "train_dataset = tf.data.Dataset.from_tensor_slices((train_features, train_labels)).shuffle(buffer_size=10000).batch(batch_size)\n",
    "val_dataset = tf.data.Dataset.from_tensor_slices((val_features, val_labels)).batch(batch_size)\n",
    "\n",
    "# Entrenar el modelo\n",
    "history = model.fit(train_dataset, \n",
    "                    validation_data=val_dataset, \n",
    "                    epochs=epochs, \n",
    "                    verbose=1)\n",
    "\n",
    "# Visualizar el proceso de entrenamiento\n",
    "import matplotlib.pyplot as plt\n",
    "\n",
    "# Extraer la precisión y la pérdida del historial de entrenamiento\n",
    "train_accuracy = history.history['accuracy']\n",
    "val_accuracy = history.history['val_accuracy']\n",
    "train_loss = history.history['loss']\n",
    "val_loss = history.history['val_loss']\n",
    "\n",
    "# Graficar la precisión y la pérdida durante el entrenamiento\n",
    "epochs_range = range(1, epochs + 1)\n",
    "plt.figure(figsize=(12, 4))\n",
    "\n",
    "plt.subplot(1, 2, 1)\n",
    "plt.plot(epochs_range, train_accuracy, label='Training Accuracy')\n",
    "plt.plot(epochs_range, val_accuracy, label='Validation Accuracy')\n",
    "plt.legend()\n",
    "plt.title('Training and Validation Accuracy')\n",
    "\n",
    "plt.subplot(1, 2, 2)\n",
    "plt.plot(epochs_range, train_loss, label='Training Loss')\n",
    "plt.plot(epochs_range, val_loss, label='Validation Loss')\n",
    "plt.legend()\n",
    "plt.title('Training and Validation Loss')\n",
    "\n",
    "plt.tight_layout()\n",
    "plt.show()\n"
   ]
  },
  {
   "cell_type": "code",
   "execution_count": null,
   "metadata": {},
   "outputs": [],
   "source": [
    "from sklearn.model_selection import train_test_split\n",
    "\n",
    "train_images = train_images.astype(np.float32) / 255.0\n",
    "\n",
    "# Creacion de variables de entrenamiento, validacion y testeo. Contando imagenes y etiquetas\n",
    "train_features, test_features, train_labels, test_labels = train_test_split(train_images, labels, test_size=0.2, random_state=42)\n",
    "train_feautres, val_features, train_labels, val_labels = train_test_split(train_features, train_labels, test_size=0.2, random_state=42)\n"
   ]
  },
  {
   "cell_type": "code",
   "execution_count": null,
   "metadata": {},
   "outputs": [
    {
     "data": {
      "text/plain": [
       "<matplotlib.image.AxesImage at 0x27a2e5480a0>"
      ]
     },
     "execution_count": 194,
     "metadata": {},
     "output_type": "execute_result"
    },
    {
     "data": {
      "image/png": "[encoded data removed]",
      "text/plain": [
       "<Figure size 640x480 with 1 Axes>"
      ]
     },
     "metadata": {},
     "output_type": "display_data"
    }
   ],
   "source": [
    "plt.imshow(train_features[0])\n"
   ]
  },
  {
   "cell_type": "markdown",
   "metadata": {},
   "source": [
    "### Generacion de imagenes al azar"
   ]
  },
  {
   "cell_type": "code",
   "execution_count": null,
   "metadata": {},
   "outputs": [],
   "source": [
    "# forma_imagen = (32, 32, 3)\n",
    "\n",
    "# from keras.preprocessing.image import ImageDataGenerator\n",
    "\n",
    "# gen_imagen = ImageDataGenerator(rotation_range = 0, # rotar la imagen 0 grados\n",
    "#                                width_shift_range = 0.10, # Desplazar el ancho de la imagen por un max de 5%\n",
    "#                                height_shift_range = 0.10, # Desplazar la altura de la imagen por un max de 5%\n",
    "#                                #rescale = 1 / 255, # Normalizar la imagen, en este caso ya están normalizadas\n",
    "#                                shear_range = 0.1, # Shear quiere decir cortar parte de la imagen (max 10%)\n",
    "#                                zoom_range = 0.1, # Zoom por 10% max\n",
    "#                                horizontal_flip = False, # voltear la imagen sobre el eje horizontal\n",
    "#                                fill_mode = 'nearest' # Llenar los pixels faltantes con el valor existente más cercano\n",
    "#                               )"
   ]
  },
  {
   "cell_type": "code",
   "execution_count": null,
   "metadata": {},
   "outputs": [],
   "source": [
    "# def Generator(File_address, Batch_Size):\n",
    "#     while True:\n",
    "#       pickle_data = []\n",
    "#       with (open(\"myfile\", \"rb\")) as openfile: #Read pickle file. this is a sample. you can use your way to read the pickle file.\n",
    "#           while True:\n",
    "#               pickle_data.append(pickle.load(File_address))\n",
    "      \n",
    "#       for B in range(0, len(pickle_data), Batch_Size):\n",
    "#           X = pickle_data[B:B+Batch_Size]\n",
    "#           Y = Labels[B:B+Batch_Size] #Define your labels\n",
    "#           yield X, Y #Returning data for training."
   ]
  },
  {
   "cell_type": "code",
   "execution_count": null,
   "metadata": {},
   "outputs": [],
   "source": [
    "# train_gen = Generator(train_route, 50000)\n",
    "# test_gen = Generator(test_route, 50000)\n",
    "# validation_gen = Generator(validation_route, 50000)"
   ]
  },
  {
   "cell_type": "markdown",
   "metadata": {},
   "source": [
    "## Creacion Modelo"
   ]
  },
  {
   "cell_type": "code",
   "execution_count": null,
   "metadata": {},
   "outputs": [],
   "source": [
    "from keras.models import Sequential\n",
    "from keras.layers import Activation, Dropout, Flatten, Dense, Conv2D, MaxPooling2D"
   ]
  },
  {
   "cell_type": "code",
   "execution_count": null,
   "metadata": {},
   "outputs": [
    {
     "name": "stdout",
     "output_type": "stream",
     "text": [
      "Model: \"sequential_5\"\n",
      "_________________________________________________________________\n",
      " Layer (type)                Output Shape              Param #   \n",
      "=================================================================\n",
      " conv2d_10 (Conv2D)          (None, 28, 28, 6)         456       \n",
      "                                                                 \n",
      " max_pooling2d_10 (MaxPooli  (None, 14, 14, 6)         0         \n",
      " ng2D)                                                           \n",
      "                                                                 \n",
      " conv2d_11 (Conv2D)          (None, 10, 10, 16)        2416      \n",
      "                                                                 \n",
      " max_pooling2d_11 (MaxPooli  (None, 5, 5, 16)          0         \n",
      " ng2D)                                                           \n",
      "                                                                 \n",
      " flatten_5 (Flatten)         (None, 400)               0         \n",
      "                                                                 \n"
     ]
    },
    {
     "name": "stdout",
     "output_type": "stream",
     "text": [
      " dense_15 (Dense)            (None, 120)               48120     \n",
      "                                                                 \n",
      " dense_16 (Dense)            (None, 84)                10164     \n",
      "                                                                 \n",
      " dense_17 (Dense)            (None, 43)                3655      \n",
      "                                                                 \n",
      "=================================================================\n",
      "Total params: 64811 (253.17 KB)\n",
      "Trainable params: 64811 (253.17 KB)\n",
      "Non-trainable params: 0 (0.00 Byte)\n",
      "_________________________________________________________________\n"
     ]
    }
   ],
   "source": [
    "modelo = Sequential()\n",
    "\n",
    "modelo.add(Conv2D(6, (5, 5), activation='relu', input_shape=(32,32,3)))\n",
    "modelo.add(MaxPooling2D(pool_size=(2, 2)))\n",
    "modelo.add(Conv2D(16, (5, 5), activation='relu'))\n",
    "modelo.add(MaxPooling2D(pool_size=(2, 2)))\n",
    "modelo.add(Flatten())\n",
    "modelo.add(Dense(120, activation='relu'))\n",
    "modelo.add(Dense(84, activation='relu'))\n",
    "modelo.add(Dense(43, activation='softmax')) # Traffic sign classes = 43\n",
    "\n",
    "modelo.compile(optimizer='adam', loss='sparse_categorical_crossentropy', metrics=['accuracy'])\n",
    "\n",
    "modelo.summary()"
   ]
  },
  {
   "cell_type": "code",
   "execution_count": null,
   "metadata": {},
   "outputs": [
    {
     "data": {
      "image/png": "[encoded data removed]",
      "text/plain": [
       "<IPython.core.display.Image object>"
      ]
     },
     "execution_count": 200,
     "metadata": {},
     "output_type": "execute_result"
    }
   ],
   "source": [
    "from keras.utils import plot_model\n",
    "plot_model(modelo, to_file='model.png', show_shapes=True, show_layer_names=True)"
   ]
  },
  {
   "cell_type": "code",
   "execution_count": null,
   "metadata": {},
   "outputs": [],
   "source": [
    "from keras.callbacks import EarlyStopping\n",
    "\n",
    "deteccion_temprana = EarlyStopping(monitor='val_loss', patience=2)"
   ]
  },
  {
   "cell_type": "markdown",
   "metadata": {},
   "source": [
    "## Entrenamiento de Modelo"
   ]
  },
  {
   "cell_type": "code",
   "execution_count": null,
   "metadata": {},
   "outputs": [],
   "source": [
    "import warnings\n",
    "warnings.filterwarnings('ignore')"
   ]
  },
  {
   "cell_type": "code",
   "execution_count": null,
   "metadata": {},
   "outputs": [],
   "source": [
    "from keras.models import load_model\n",
    "modelo.save('detector_de_senales.h5') #Guardamos el modelo"
   ]
  }
 ],
 "metadata": {
  "kernelspec": {
   "display_name": "Python 3",
   "language": "python",
   "name": "python3"
  },
  "language_info": {
   "codemirror_mode": {
    "name": "ipython",
    "version": 3
   },
   "file_extension": ".py",
   "mimetype": "text/x-python",
   "name": "python",
   "nbconvert_exporter": "python",
   "pygments_lexer": "ipython3",
   "version": "3.10.10"
  }
 },
 "nbformat": 4,
 "nbformat_minor": 2
}
