{
 "cells": [
  {
   "cell_type": "markdown",
   "metadata": {
    "id": "hBURZmks2m0I"
   },
   "source": [
    "# Este caso de estudio servirá para demostrar el uso del paquete AutoGluon que permite llevar a cabo un prototipado rápido de moodelos de Aprendizaje de Máquina (ML)\n",
    "\n",
    "## IMPORTAR LIBRERIAS Y CONJUNTO DE DATOS"
   ]
  },
  {
   "cell_type": "code",
   "execution_count": null,
   "metadata": {
    "id": "T5kZL5iw2m0M"
   },
   "outputs": [],
   "source": [
    "import pandas as pd\n",
    "import numpy as np\n",
    "import seaborn as sns\n",
    "import matplotlib.pyplot as plt\n",
    "\n",
    "import warnings\n",
    "warnings.filterwarnings('ignore')"
   ]
  },
  {
   "cell_type": "code",
   "execution_count": null,
   "metadata": {
    "id": "G4F3PufS26SW"
   },
   "outputs": [],
   "source": [
    "# Para que funcione Autogluon en Google Colab, es necesario instalar ipkernel y reiniciar el Notebook\n",
    "# El kernel IPython es el backend de ejecución para Jupyter\n",
    "\n",
    "!pip install -U ipykernel"
   ]
  },
  {
   "cell_type": "code",
   "execution_count": null,
   "metadata": {
    "id": "M633n5tQ2m0O"
   },
   "outputs": [],
   "source": [
    "!pip install -U pip\n",
    "!pip install -U setuptools wheel\n",
    "!pip install -U \"mxnet<2.0.0\"\n",
    "!pip install autogluon --no-cache-dir"
   ]
  },
  {
   "cell_type": "code",
   "execution_count": null,
   "metadata": {
    "id": "KkOWsSVE2m0P",
    "tags": []
   },
   "outputs": [],
   "source": [
    "# pip install autogluon autogluon.tabular \"mxnet<2.0.0\""
   ]
  },
  {
   "cell_type": "markdown",
   "metadata": {},
   "source": [
    "El AutoGluon esta modularizado en sub-módulos para datos:  \n",
    "* Tabular, \n",
    "* text,\n",
    "* Images"
   ]
  },
  {
   "cell_type": "code",
   "execution_count": null,
   "metadata": {
    "id": "BuggA3_82m0Q"
   },
   "outputs": [],
   "source": [
    "from autogluon.tabular import TabularDataset, TabularPredictor"
   ]
  },
  {
   "cell_type": "code",
   "execution_count": null,
   "metadata": {
    "id": "3JlcVMS62m0Q"
   },
   "outputs": [],
   "source": [
    "seguros = pd.read_csv('insurance.csv')"
   ]
  },
  {
   "cell_type": "code",
   "execution_count": null,
   "metadata": {
    "id": "kjZOM10G2m0R"
   },
   "outputs": [],
   "source": [
    "seguros"
   ]
  },
  {
   "cell_type": "markdown",
   "metadata": {
    "id": "Tf1wpHOE2m0S"
   },
   "source": [
    "**PRACTICA #1 [OPCIONAL]:** \n",
    "- **¿Cuántas regiones únicas hay en el DataFrame seguros?**"
   ]
  },
  {
   "cell_type": "code",
   "execution_count": null,
   "metadata": {
    "id": "NCvjK2j32m0S"
   },
   "outputs": [],
   "source": []
  },
  {
   "cell_type": "markdown",
   "metadata": {
    "id": "pLbiu__M2m0T"
   },
   "source": [
    "## REALIZAR UN ANALISIS EXPLORATORIO DE DATOS (EDA) "
   ]
  },
  {
   "cell_type": "code",
   "execution_count": null,
   "metadata": {
    "id": "5xny5jHF2m0T"
   },
   "outputs": [],
   "source": [
    "# Explorar las primeras 3 filas del DataFrame\n",
    "\n",
    "seguros.head(3)"
   ]
  },
  {
   "cell_type": "code",
   "execution_count": null,
   "metadata": {
    "id": "KNv-Tx-t2m0T"
   },
   "outputs": [],
   "source": [
    "# Explorar las últimas 5 filas del DataFrame\n",
    "\n",
    "seguros.tail()"
   ]
  },
  {
   "cell_type": "code",
   "execution_count": null,
   "metadata": {
    "id": "sXDCHESx2m0U"
   },
   "outputs": [],
   "source": [
    "# Generar un resúmen estadístico\n",
    "\n",
    "seguros.describe()"
   ]
  },
  {
   "cell_type": "code",
   "execution_count": null,
   "metadata": {
    "id": "pLPLmPrA2m0U"
   },
   "outputs": [],
   "source": [
    "# Obtener información del conjunto de datos\n",
    "\n",
    "seguros.info()"
   ]
  },
  {
   "cell_type": "code",
   "execution_count": null,
   "metadata": {
    "id": "fj-6oGUj2m0U"
   },
   "outputs": [],
   "source": [
    "# Agrupar por región para ver si hay alguna relación entre region y charges\n",
    "# Parece ser que la región south east tiene los cargos y los índices de masa corporal más altos\n",
    "\n",
    "df_region = seguros.groupby('region').describe()\n",
    "df_region"
   ]
  },
  {
   "cell_type": "markdown",
   "metadata": {
    "id": "sqzWuI5j2m0V"
   },
   "source": [
    "**PRACTICA #2 [OPCIONAL]:**\n",
    "- **Agrupe los datos por 'age' y examine la relación entre 'age' y 'charges'**"
   ]
  },
  {
   "cell_type": "code",
   "execution_count": null,
   "metadata": {
    "id": "D5jsu0qZ2m0V"
   },
   "outputs": [],
   "source": []
  },
  {
   "cell_type": "markdown",
   "metadata": {
    "id": "Ygf2Gs_z2m0V"
   },
   "source": [
    "## REALIZAR UNA VISUALIZACION DE LOS DATOS"
   ]
  },
  {
   "cell_type": "code",
   "execution_count": null,
   "metadata": {
    "id": "iD5WvHNA2m0V"
   },
   "outputs": [],
   "source": [
    "# Ver si hay valores nulos \"NULL\"\n",
    "\n",
    "sns.heatmap(seguros.isnull(), yticklabels = False, cbar = False, cmap=\"Blues\")"
   ]
  },
  {
   "cell_type": "code",
   "execution_count": null,
   "metadata": {
    "id": "VRf9uNn02m0W"
   },
   "outputs": [],
   "source": [
    "# Ver si hay valores nulos \"NULL\"\n",
    "\n",
    "seguros.isnull().sum()"
   ]
  },
  {
   "cell_type": "code",
   "execution_count": null,
   "metadata": {
    "id": "B9auoObF2m0W"
   },
   "outputs": [],
   "source": [
    "seguros[['age', 'sex', 'bmi', 'children', 'smoker', 'charges']].hist(bins = 30, figsize = (12, 12), color = 'r');\n"
   ]
  },
  {
   "cell_type": "code",
   "execution_count": null,
   "metadata": {
    "id": "uCJS5E112m0W"
   },
   "outputs": [],
   "source": [
    "# realizar una gráfica pairplot\n",
    "\n",
    "sns.pairplot(seguros)"
   ]
  },
  {
   "cell_type": "code",
   "execution_count": null,
   "metadata": {
    "id": "rNv2uILj2m0X"
   },
   "outputs": [],
   "source": [
    "plt.figure(figsize = (15, 6))\n",
    "sns.regplot(x = 'age', y = 'charges', data = seguros)\n",
    "plt.show()\n",
    "  "
   ]
  },
  {
   "cell_type": "code",
   "execution_count": null,
   "metadata": {
    "id": "BC2BGVlH2m0X"
   },
   "outputs": [],
   "source": [
    "plt.figure(figsize = (15, 6))\n",
    "sns.regplot(x = 'bmi', y = 'charges', data = seguros)\n",
    "plt.show()\n",
    "  "
   ]
  },
  {
   "cell_type": "markdown",
   "metadata": {
    "id": "SUtpSXqb2m0X"
   },
   "source": [
    "**PRACTICA #3 [OPCIONAL]:**\n",
    " - **Calcule y grafique la matriz de correlación**\n",
    " - **¿Qué \"feature\" tiene la correlación más positiva con charges?**"
   ]
  },
  {
   "cell_type": "code",
   "execution_count": null,
   "metadata": {
    "id": "i5hDtYDK2m0X"
   },
   "outputs": [],
   "source": []
  },
  {
   "cell_type": "code",
   "execution_count": null,
   "metadata": {
    "id": "7R-oc_Tb2m0X"
   },
   "outputs": [],
   "source": []
  },
  {
   "cell_type": "markdown",
   "metadata": {
    "id": "4gROKtuz2m0X"
   },
   "source": [
    "## ENTRENAR MULTIPLES MODELOS UTILANDO AUTOGLUON"
   ]
  },
  {
   "cell_type": "code",
   "execution_count": null,
   "metadata": {
    "id": "7NMB_yRy2m0Y"
   },
   "outputs": [],
   "source": [
    "# Dividir los datos en un 80% para entrenamiento y 20% para pruebas\n",
    "\n",
    "from sklearn.model_selection import train_test_split\n",
    "X_entreno, X_prueba = train_test_split(seguros, test_size=0.2, random_state=0)"
   ]
  },
  {
   "cell_type": "code",
   "execution_count": null,
   "metadata": {
    "id": "FzURs_qd2m0Y"
   },
   "outputs": [],
   "source": [
    "X_entreno"
   ]
  },
  {
   "cell_type": "code",
   "execution_count": null,
   "metadata": {
    "id": "HeKJdacS2m0Y"
   },
   "outputs": [],
   "source": [
    "X_prueba"
   ]
  },
  {
   "cell_type": "markdown",
   "metadata": {},
   "source": [
    "Se entrenarán múltiples modelos ML de regresión utilizando AutoGluon\n",
    "\n",
    "Es necesario especifcar la columna \"etiqueta/meta/\", datos de entreno, límite de tiempo, y pre-determinados\n",
    "\n",
    "Nótese que AutoGluon detecta automáticamente si el problema es de clasificación o regresión basado en la columna \"etiqueta\"\n",
    "\n",
    "Para problemas de tipo regresión, los valores de \"etiqueta\" son generalmente números de punto flotante con un gran número de valores únicos"
   ]
  },
  {
   "cell_type": "code",
   "execution_count": null,
   "metadata": {
    "id": "c2fuVFsx2m0Y"
   },
   "outputs": [],
   "source": [
    "predictor = TabularPredictor(label=\"charges\", \n",
    "                             problem_type = 'regression', \n",
    "                             eval_metric = 'r2').fit(train_data = X_entreno, \n",
    "                                                     time_limit = 200, \n",
    "                                                     presets = \"best_quality\")"
   ]
  },
  {
   "cell_type": "code",
   "execution_count": null,
   "metadata": {
    "id": "rEATJ-Ko2m0Y"
   },
   "outputs": [],
   "source": [
    "predictor.fit_summary()"
   ]
  },
  {
   "cell_type": "markdown",
   "metadata": {
    "id": "wsFWhGU32m0Z"
   },
   "source": [
    "## EVALUAR EL RENDIMIENTO DE LOS MODELOS ENTRENADOS"
   ]
  },
  {
   "cell_type": "code",
   "execution_count": null,
   "metadata": {
    "id": "SM-O6ct42m0b"
   },
   "outputs": [],
   "source": [
    "predictor.leaderboard()"
   ]
  },
  {
   "cell_type": "code",
   "execution_count": null,
   "metadata": {
    "id": "u6SKB0Gd2m0b"
   },
   "outputs": [],
   "source": [
    "# Inicializar la figura de matplotlib\n",
    "\n",
    "f, ax = plt.subplots(figsize = (15, 6))\n",
    "sns.barplot(x = \"model\", y = \"score_val\", data = predictor.leaderboard(), color = \"b\")\n",
    "ax.set(ylabel = \"Performance Metric (R2)\", xlabel = \"Regression Models\")\n",
    "plt.xticks(rotation = 45);"
   ]
  },
  {
   "cell_type": "code",
   "execution_count": null,
   "metadata": {
    "id": "SrzGxCkf2m0c"
   },
   "outputs": [],
   "source": [
    "predictor.evaluate(X_prueba)"
   ]
  },
  {
   "cell_type": "code",
   "execution_count": null,
   "metadata": {
    "id": "aU1kbbES2m0c"
   },
   "outputs": [],
   "source": [
    "# Evaluar el rendimiento de los modelos\n",
    "# Seleccionar 5 observaciones del conjunto de datos de prueba y generar las predicciones\n",
    "\n",
    "y_pred = predictor.predict(X_prueba)\n",
    "print(\"Predictions:  \", list(y_pred)[:5])"
   ]
  },
  {
   "cell_type": "code",
   "execution_count": null,
   "metadata": {
    "id": "2HuHDmSA2m0c"
   },
   "outputs": [],
   "source": [
    "X_prueba"
   ]
  },
  {
   "cell_type": "code",
   "execution_count": null,
   "metadata": {
    "id": "BeCW71pr2m0c"
   },
   "outputs": [],
   "source": [
    "y_prueba = X_prueba['charges']\n",
    "y_prueba # valores correctos"
   ]
  },
  {
   "cell_type": "code",
   "execution_count": null,
   "metadata": {
    "id": "qAZtsGL22m0c"
   },
   "outputs": [],
   "source": [
    "y_predicc = predictor.predict(X_prueba)\n",
    "plt.figure(figsize = (15, 10))\n",
    "plt.plot(y_prueba, y_predicc, \"^\", color = 'r')\n",
    "plt.ylabel('Predicciones de los modelos')\n",
    "plt.xlabel('Valores reales')"
   ]
  },
  {
   "cell_type": "code",
   "execution_count": null,
   "metadata": {
    "id": "aLJFnlsv2m0d"
   },
   "outputs": [],
   "source": [
    "from sklearn.metrics import r2_score, mean_squared_error, mean_absolute_error\n",
    "from math import sqrt\n",
    "\n",
    "RMSE = float(format(np.sqrt(mean_squared_error(y_prueba, y_predicc)),'.3f'))\n",
    "MSE = mean_squared_error(y_prueba, y_predicc)\n",
    "MAE = mean_absolute_error(y_prueba, y_predicc)\n",
    "r2 = r2_score(y_prueba, y_predicc)\n",
    "\n",
    "print('RMSE =',RMSE, '\\nMSE =',MSE, '\\nMAE =',MAE, '\\nR2 =', r2) "
   ]
  },
  {
   "cell_type": "markdown",
   "metadata": {
    "id": "6gSCiUYD2m0d"
   },
   "source": [
    "**PRACTICA #4 [OPCIONAL]:**\n",
    "\n",
    "- **Volver a en\\ntrenar un modelo de regresión usando AutoGluon con valores pre-determinados diferentes**\n",
    "- **Fijar el límite de tiempo a 300 secs**\n",
    "- **Utilizar RMSE como la métrica principal y realice una gráfica de barras**\n",
    "- **¿Qué modelo tiene el mejor rendimiento?**\n",
    "- **Evaluar el rendimiento de los modelos entrenados por medio de la comparación de distintas métricas**"
   ]
  },
  {
   "cell_type": "markdown",
   "metadata": {
    "id": "J4H_sfN78tOC"
   },
   "source": [
    "# ¡FABULOSO!"
   ]
  },
  {
   "cell_type": "code",
   "execution_count": null,
   "metadata": {
    "id": "EWsrdTzjIEFg"
   },
   "outputs": [],
   "source": []
  }
 ],
 "metadata": {
  "colab": {
   "collapsed_sections": [],
   "name": "Data Science on Autopilot.ipynb",
   "provenance": []
  },
  "kernelspec": {
   "display_name": "Python 3 (ipykernel)",
   "language": "python",
   "name": "python3"
  },
  "language_info": {
   "codemirror_mode": {
    "name": "ipython",
    "version": 3
   },
   "file_extension": ".py",
   "mimetype": "text/x-python",
   "name": "python",
   "nbconvert_exporter": "python",
   "pygments_lexer": "ipython3",
   "version": "3.10.12"
  }
 },
 "nbformat": 4,
 "nbformat_minor": 4
}
